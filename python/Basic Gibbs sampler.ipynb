{
 "cells": [
  {
   "cell_type": "code",
   "execution_count": 11,
   "metadata": {
    "collapsed": true
   },
   "outputs": [],
   "source": [
    "import numpy as np\n",
    "import matplotlib.pyplot as plt\n",
    "\n",
    "def sampler1(data, mu0=0.,kappa0=1.,alpha0=1., beta0=1.,num_samples=1000):\n",
    "    n = len(data)\n",
    "    xbar = np.mean(data)\n",
    "    mu = np.zeros(num_samples)\n",
    "    omega = np.zeros(num_samples)\n",
    "    mu_n = (kappa0*mu0 + n*xbar)/(kappa0+n)\n",
    "    kappa_n = kappa0+n\n",
    "    alpha_n = alpha0 + n/2.\n",
    "    beta_n = beta0+0.5*np.sum((data-xbar)**2) + n*kappa0*((xbar-mu0)**2)/(2*(kappa0+n))\n",
    "  \n",
    "    for i in range(num_samples):\n",
    "        omega[i] =np.random.gamma(shape=alpha_n, scale=1/beta_n)\n",
    "        mu[i] = np.random.normal(loc=mu_n,scale=1/np.sqrt(omega[i]*kappa_n))\n",
    "  \n",
    "    return mu, omega\n",
    "\n",
    "def sampler2(data,mu0=0.,kappa0=1.,alpha0=1., beta0=1.,num_samples=1000,burnin=100):\n",
    "    n = len(data)\n",
    "    xbar = np.mean(data)\n",
    "    mu = np.zeros(num_samples+burnin)\n",
    "    omega = np.zeros(num_samples+burnin)\n",
    "    mu_n = (kappa0*mu0 + n*xbar)/(kappa0+n)\n",
    "    kappa_n = kappa0+n\n",
    "    alpha_n = alpha0 + n/2.\n",
    "    beta_n = beta0+0.5*np.sum((data-xbar)**2) + n*kappa0*((xbar-mu0)**2)/(2*(kappa0+n))\n",
    "\n",
    "    omega[0]=alpha0/beta0\n",
    "    mu[0]=mu0\n",
    "    for i in range(1,num_samples+burnin):\n",
    "        beta_param = 0.5*(kappa_n*((mu[i-1]-mu_n)**2)) +beta_n\n",
    "        omega[i]=np.random.gamma(shape=alpha_n, scale=1/beta_param)\n",
    "        mu[i]=np.random.normal(loc=mu_n,scale=1/np.sqrt(omega[i]*kappa_n))\n",
    "  \n",
    "    return mu[burnin:],omega[burnin:]\n",
    "\n"
   ]
  },
  {
   "cell_type": "code",
   "execution_count": 6,
   "metadata": {},
   "outputs": [],
   "source": [
    "true_mean = 4.\n",
    "true_prec = 0.5\n",
    "true_sd = 1/np.sqrt(true_prec)\n",
    "num_obs = 1000\n",
    "data = np.random.normal(size=num_obs,loc=true_mean,scale=true_sd)\n"
   ]
  },
  {
   "cell_type": "code",
   "execution_count": 7,
   "metadata": {},
   "outputs": [],
   "source": [
    "mu1,omega1 = sampler1(data)"
   ]
  },
  {
   "cell_type": "code",
   "execution_count": 8,
   "metadata": {},
   "outputs": [
    {
     "data": {
      "image/png": "[encoded data removed]",
      "text/plain": [
       "<matplotlib.figure.Figure at 0x111e886d8>"
      ]
     },
     "metadata": {},
     "output_type": "display_data"
    }
   ],
   "source": [
    "plt.hist(mu1)\n",
    "plt.show()"
   ]
  },
  {
   "cell_type": "code",
   "execution_count": 9,
   "metadata": {},
   "outputs": [
    {
     "data": {
      "image/png": "[encoded data removed]",
      "text/plain": [
       "<matplotlib.figure.Figure at 0x111e88710>"
      ]
     },
     "metadata": {},
     "output_type": "display_data"
    }
   ],
   "source": [
    "plt.hist(omega1)\n",
    "plt.show()"
   ]
  },
  {
   "cell_type": "code",
   "execution_count": 12,
   "metadata": {},
   "outputs": [],
   "source": [
    "mu2,omega2 = sampler2(data)"
   ]
  },
  {
   "cell_type": "code",
   "execution_count": 13,
   "metadata": {},
   "outputs": [
    {
     "data": {
      "image/png": "[encoded data removed]",
      "text/plain": [
       "<matplotlib.figure.Figure at 0x11c26bd68>"
      ]
     },
     "metadata": {},
     "output_type": "display_data"
    }
   ],
   "source": [
    "plt.hist(mu2)\n",
    "plt.show()"
   ]
  },
  {
   "cell_type": "code",
   "execution_count": null,
   "metadata": {
    "collapsed": true
   },
   "outputs": [],
   "source": []
  }
 ],
 "metadata": {
  "kernelspec": {
   "display_name": "Python 3",
   "language": "python",
   "name": "python3"
  },
  "language_info": {
   "codemirror_mode": {
    "name": "ipython",
    "version": 3
   },
   "file_extension": ".py",
   "mimetype": "text/x-python",
   "name": "python",
   "nbconvert_exporter": "python",
   "pygments_lexer": "ipython3",
   "version": "3.6.2"
  }
 },
 "nbformat": 4,
 "nbformat_minor": 2
}
